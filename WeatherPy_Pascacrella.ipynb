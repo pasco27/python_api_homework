{
 "cells": [
  {
   "cell_type": "markdown",
   "metadata": {},
   "source": [
    "# WeatherPy\n",
    "----\n",
    "\n",
    "#### Note\n",
    "* Instructions have been included for each segment. You do not have to follow them exactly, but they are included to help you think through the steps."
   ]
  },
  {
   "cell_type": "code",
   "execution_count": null,
   "metadata": {
    "scrolled": true
   },
   "outputs": [],
   "source": []
  },
  {
   "cell_type": "code",
   "execution_count": 18,
   "metadata": {},
   "outputs": [],
   "source": [
    "#let's give this a go"
   ]
  },
  {
   "cell_type": "code",
   "execution_count": 19,
   "metadata": {},
   "outputs": [],
   "source": [
    "from citipy import citipy\n",
    "import pandas as pd\n",
    "import numpy as np\n",
    "import json \n",
    "import requests\n",
    "from pprint import pprint\n",
    "import matplotlib.pyplot as plt\n",
    "from scipy import stats\n",
    "from api_keys import weather_api_key"
   ]
  },
  {
   "cell_type": "code",
   "execution_count": 20,
   "metadata": {},
   "outputs": [
    {
     "data": {
      "text/plain": [
       "'a18023732a8ff6de5a1f2bad3b1e3ce5'"
      ]
     },
     "execution_count": 20,
     "metadata": {},
     "output_type": "execute_result"
    }
   ],
   "source": [
    "weather_api_key"
   ]
  },
  {
   "cell_type": "code",
   "execution_count": null,
   "metadata": {},
   "outputs": [],
   "source": []
  },
  {
   "cell_type": "markdown",
   "metadata": {},
   "source": [
    "## Generate Cities List"
   ]
  },
  {
   "cell_type": "code",
   "execution_count": 21,
   "metadata": {},
   "outputs": [
    {
     "data": {
      "text/html": [
       "<div>\n",
       "<style scoped>\n",
       "    .dataframe tbody tr th:only-of-type {\n",
       "        vertical-align: middle;\n",
       "    }\n",
       "\n",
       "    .dataframe tbody tr th {\n",
       "        vertical-align: top;\n",
       "    }\n",
       "\n",
       "    .dataframe thead th {\n",
       "        text-align: right;\n",
       "    }\n",
       "</style>\n",
       "<table border=\"1\" class=\"dataframe\">\n",
       "  <thead>\n",
       "    <tr style=\"text-align: right;\">\n",
       "      <th></th>\n",
       "      <th>long</th>\n",
       "      <th>lat</th>\n",
       "    </tr>\n",
       "  </thead>\n",
       "  <tbody>\n",
       "    <tr>\n",
       "      <th>0</th>\n",
       "      <td>10.781778</td>\n",
       "      <td>73.720745</td>\n",
       "    </tr>\n",
       "    <tr>\n",
       "      <th>1</th>\n",
       "      <td>58.102896</td>\n",
       "      <td>-87.219568</td>\n",
       "    </tr>\n",
       "    <tr>\n",
       "      <th>2</th>\n",
       "      <td>-99.318010</td>\n",
       "      <td>-80.038423</td>\n",
       "    </tr>\n",
       "    <tr>\n",
       "      <th>3</th>\n",
       "      <td>176.342260</td>\n",
       "      <td>-10.508928</td>\n",
       "    </tr>\n",
       "    <tr>\n",
       "      <th>4</th>\n",
       "      <td>66.378518</td>\n",
       "      <td>42.581710</td>\n",
       "    </tr>\n",
       "  </tbody>\n",
       "</table>\n",
       "</div>"
      ],
      "text/plain": [
       "         long        lat\n",
       "0   10.781778  73.720745\n",
       "1   58.102896 -87.219568\n",
       "2  -99.318010 -80.038423\n",
       "3  176.342260 -10.508928\n",
       "4   66.378518  42.581710"
      ]
     },
     "execution_count": 21,
     "metadata": {},
     "output_type": "execute_result"
    }
   ],
   "source": [
    "### I found some examples of code to creates the cities list, and with the looping (directly from class 'nearest resturant' example)\n",
    "#### Listing the reference:  https://ronamadthis.github.io/citipyweather.html\n",
    "#### Also explaning each step so that it's known that I understand! \n",
    "\n",
    "# Generate latitudes(-90 to 90) and longitudes(-180 to 180) using random number generator\n",
    "random_city_df = pd.DataFrame({'long':(np.random.uniform(-180,180,1300)), 'lat':(np.random.uniform(-90,90,1300))})\n",
    "random_city_df.head()"
   ]
  },
  {
   "cell_type": "code",
   "execution_count": 22,
   "metadata": {},
   "outputs": [
    {
     "data": {
      "text/html": [
       "<div>\n",
       "<style scoped>\n",
       "    .dataframe tbody tr th:only-of-type {\n",
       "        vertical-align: middle;\n",
       "    }\n",
       "\n",
       "    .dataframe tbody tr th {\n",
       "        vertical-align: top;\n",
       "    }\n",
       "\n",
       "    .dataframe thead th {\n",
       "        text-align: right;\n",
       "    }\n",
       "</style>\n",
       "<table border=\"1\" class=\"dataframe\">\n",
       "  <thead>\n",
       "    <tr style=\"text-align: right;\">\n",
       "      <th></th>\n",
       "      <th>long</th>\n",
       "      <th>lat</th>\n",
       "      <th>City</th>\n",
       "      <th>Country</th>\n",
       "    </tr>\n",
       "  </thead>\n",
       "  <tbody>\n",
       "    <tr>\n",
       "      <th>0</th>\n",
       "      <td>10.781778</td>\n",
       "      <td>73.720745</td>\n",
       "      <td>barentsburg</td>\n",
       "      <td>sj</td>\n",
       "    </tr>\n",
       "    <tr>\n",
       "      <th>1</th>\n",
       "      <td>58.102896</td>\n",
       "      <td>-87.219568</td>\n",
       "      <td>east london</td>\n",
       "      <td>za</td>\n",
       "    </tr>\n",
       "    <tr>\n",
       "      <th>2</th>\n",
       "      <td>-99.318010</td>\n",
       "      <td>-80.038423</td>\n",
       "      <td>punta arenas</td>\n",
       "      <td>cl</td>\n",
       "    </tr>\n",
       "    <tr>\n",
       "      <th>3</th>\n",
       "      <td>176.342260</td>\n",
       "      <td>-10.508928</td>\n",
       "      <td>asau</td>\n",
       "      <td>tv</td>\n",
       "    </tr>\n",
       "    <tr>\n",
       "      <th>4</th>\n",
       "      <td>66.378518</td>\n",
       "      <td>42.581710</td>\n",
       "      <td>zhanakorgan</td>\n",
       "      <td>kz</td>\n",
       "    </tr>\n",
       "    <tr>\n",
       "      <th>5</th>\n",
       "      <td>25.571831</td>\n",
       "      <td>-89.773918</td>\n",
       "      <td>bredasdorp</td>\n",
       "      <td>za</td>\n",
       "    </tr>\n",
       "    <tr>\n",
       "      <th>6</th>\n",
       "      <td>12.734747</td>\n",
       "      <td>-6.516690</td>\n",
       "      <td>soyo</td>\n",
       "      <td>ao</td>\n",
       "    </tr>\n",
       "    <tr>\n",
       "      <th>7</th>\n",
       "      <td>111.429322</td>\n",
       "      <td>-89.359521</td>\n",
       "      <td>albany</td>\n",
       "      <td>au</td>\n",
       "    </tr>\n",
       "    <tr>\n",
       "      <th>8</th>\n",
       "      <td>148.776172</td>\n",
       "      <td>64.514670</td>\n",
       "      <td>shirokiy</td>\n",
       "      <td>ru</td>\n",
       "    </tr>\n",
       "    <tr>\n",
       "      <th>9</th>\n",
       "      <td>-118.257668</td>\n",
       "      <td>53.016707</td>\n",
       "      <td>jasper</td>\n",
       "      <td>ca</td>\n",
       "    </tr>\n",
       "  </tbody>\n",
       "</table>\n",
       "</div>"
      ],
      "text/plain": [
       "         long        lat          City Country\n",
       "0   10.781778  73.720745   barentsburg      sj\n",
       "1   58.102896 -87.219568   east london      za\n",
       "2  -99.318010 -80.038423  punta arenas      cl\n",
       "3  176.342260 -10.508928          asau      tv\n",
       "4   66.378518  42.581710   zhanakorgan      kz\n",
       "5   25.571831 -89.773918    bredasdorp      za\n",
       "6   12.734747  -6.516690          soyo      ao\n",
       "7  111.429322 -89.359521        albany      au\n",
       "8  148.776172  64.514670      shirokiy      ru\n",
       "9 -118.257668  53.016707        jasper      ca"
      ]
     },
     "execution_count": 22,
     "metadata": {},
     "output_type": "execute_result"
    }
   ],
   "source": [
    "## Here I'm making two lists to that the following loop will fill to create a dataframe of cities, that will intern be used in the OpenWeather API\n",
    "cities_name = []\n",
    "countrycode = []\n",
    "\n",
    "## this for loop states that from the begining of the above data frame to the last row...\n",
    "for i in range(0,len(random_city_df['lat'])):\n",
    "   \n",
    "    #... I will pull the lat and long from each line, matching them together.\n",
    "    # I originally thought I could for row in rows, but the lat and long need to be matched together to create the location\n",
    "    # therein, they need to be looked at as a pair:\n",
    "    lat = random_city_df.iloc[i]['lat']\n",
    "    long = random_city_df.iloc[i][\"long\"]\n",
    "    \n",
    "    # Here we create a variable and assign with the pandas function nearest_city - using the lat and long pulled from each line\n",
    "    city = citipy.nearest_city(lat,long) \n",
    "    \n",
    "    # In these 4 lines of code, I'm assigning the city and country, and appending those to the open lists created above\n",
    "    name = city.city_name\n",
    "    cities_name.append(name)\n",
    "    country = city.country_code\n",
    "    countrycode.append(country)\n",
    "\n",
    "### Finally, outside of the loop, columns are generated with the lists that have been created for City and Country\n",
    "random_city_df['City']=cities_name\n",
    "random_city_df['Country']=countrycode\n",
    "random_city_df.head(10)"
   ]
  },
  {
   "cell_type": "code",
   "execution_count": 23,
   "metadata": {},
   "outputs": [
    {
     "data": {
      "text/plain": [
       "1300"
      ]
     },
     "execution_count": 23,
     "metadata": {},
     "output_type": "execute_result"
    }
   ],
   "source": [
    "len(random_city_df)"
   ]
  },
  {
   "cell_type": "code",
   "execution_count": 24,
   "metadata": {},
   "outputs": [
    {
     "data": {
      "text/plain": [
       "568"
      ]
     },
     "execution_count": 24,
     "metadata": {},
     "output_type": "execute_result"
    }
   ],
   "source": [
    "# Drop duplicate cities in 'City' --- as to not repeat the data:: since it's grabbing 'closest city' -- I'm there may be some that it double pulls\n",
    "# From multiple trial and error of running the code --- it took 1300 cities in the orig random data pull to maintain 500+ non-repeat cities\n",
    "cities = random_city_df.drop_duplicates(\"City\", keep='first')\n",
    "len(cities)"
   ]
  },
  {
   "cell_type": "code",
   "execution_count": 46,
   "metadata": {},
   "outputs": [
    {
     "data": {
      "text/html": [
       "<div>\n",
       "<style scoped>\n",
       "    .dataframe tbody tr th:only-of-type {\n",
       "        vertical-align: middle;\n",
       "    }\n",
       "\n",
       "    .dataframe tbody tr th {\n",
       "        vertical-align: top;\n",
       "    }\n",
       "\n",
       "    .dataframe thead th {\n",
       "        text-align: right;\n",
       "    }\n",
       "</style>\n",
       "<table border=\"1\" class=\"dataframe\">\n",
       "  <thead>\n",
       "    <tr style=\"text-align: right;\">\n",
       "      <th></th>\n",
       "      <th>long</th>\n",
       "      <th>lat</th>\n",
       "      <th>City</th>\n",
       "      <th>Country</th>\n",
       "    </tr>\n",
       "  </thead>\n",
       "  <tbody>\n",
       "    <tr>\n",
       "      <th>0</th>\n",
       "      <td>10.781778</td>\n",
       "      <td>73.720745</td>\n",
       "      <td>barentsburg</td>\n",
       "      <td>sj</td>\n",
       "    </tr>\n",
       "    <tr>\n",
       "      <th>1</th>\n",
       "      <td>58.102896</td>\n",
       "      <td>-87.219568</td>\n",
       "      <td>east london</td>\n",
       "      <td>za</td>\n",
       "    </tr>\n",
       "    <tr>\n",
       "      <th>2</th>\n",
       "      <td>-99.318010</td>\n",
       "      <td>-80.038423</td>\n",
       "      <td>punta arenas</td>\n",
       "      <td>cl</td>\n",
       "    </tr>\n",
       "    <tr>\n",
       "      <th>3</th>\n",
       "      <td>176.342260</td>\n",
       "      <td>-10.508928</td>\n",
       "      <td>asau</td>\n",
       "      <td>tv</td>\n",
       "    </tr>\n",
       "    <tr>\n",
       "      <th>4</th>\n",
       "      <td>66.378518</td>\n",
       "      <td>42.581710</td>\n",
       "      <td>zhanakorgan</td>\n",
       "      <td>kz</td>\n",
       "    </tr>\n",
       "  </tbody>\n",
       "</table>\n",
       "</div>"
      ],
      "text/plain": [
       "         long        lat          City Country\n",
       "0   10.781778  73.720745   barentsburg      sj\n",
       "1   58.102896 -87.219568   east london      za\n",
       "2  -99.318010 -80.038423  punta arenas      cl\n",
       "3  176.342260 -10.508928          asau      tv\n",
       "4   66.378518  42.581710   zhanakorgan      kz"
      ]
     },
     "execution_count": 46,
     "metadata": {},
     "output_type": "execute_result"
    }
   ],
   "source": [
    "cities.head()"
   ]
  },
  {
   "cell_type": "code",
   "execution_count": null,
   "metadata": {},
   "outputs": [],
   "source": []
  },
  {
   "cell_type": "code",
   "execution_count": null,
   "metadata": {},
   "outputs": [],
   "source": [
    "## I needed the longitude call for the city locations, but the hw is asking specifically about temps closer to the equator. \n",
    "## But only need the lat for the plots.\n"
   ]
  },
  {
   "cell_type": "markdown",
   "metadata": {},
   "source": [
    "### Perform API Calls\n",
    "* Perform a weather check on each city using a series of successive API calls.\n",
    "* Include a print log of each city as it'sbeing processed (with the city number and city name).\n"
   ]
  },
  {
   "cell_type": "code",
   "execution_count": null,
   "metadata": {
    "scrolled": true
   },
   "outputs": [],
   "source": [
    "## We had several examples of pulling from OpenWeather API in class. \n",
    "## Pulling in my API key here, as well as Google API keys, as the python file calls for:\n",
    "\n",
    "\n",
    "######## building this from OpenWeather API, howver -- but we only pulled data for one city, so I will need to loop for each city:\n",
    "\n",
    "# url = \"http://api.openweathermap.org/data/2.5/weather?\"\n",
    "# city = \"Houston\"\n",
    "# units = \"imperial\"\n",
    "\n",
    "# # Build query URL\n",
    "# # query_url = url + \"appid=\" + api_key + \"&q=\" + city +\"&units=\" + units\n",
    "# query_url = url + \"q=\" + city + \"&units=\" + units + \"&appid=\" + weather_api_key\n",
    "# query_url\n",
    "\n",
    "\n",
    "#OpenWeather reference URL's\n",
    "#api.openweathermap.org/data/2.5/weather?q={city name},{state code},{country code}&appid={your api key}\n",
    "\n",
    "#...I'm wondering if I can just use Lat and Long:\n",
    "#api.openweathermap.org/data/2.5/weather?lat={lat}&lon={lon}&appid={your api key}"
   ]
  },
  {
   "cell_type": "code",
   "execution_count": null,
   "metadata": {},
   "outputs": [],
   "source": [
    "### this is the data I want:\n",
    "# Temperature (F) vs. Latitude\n",
    "# Humidity (%) vs. Latitude\n",
    "# Cloudiness (%) vs. Latitude\n",
    "# Wind Speed (mph) vs. Latitude"
   ]
  },
  {
   "cell_type": "code",
   "execution_count": null,
   "metadata": {},
   "outputs": [],
   "source": []
  },
  {
   "cell_type": "code",
   "execution_count": 15,
   "metadata": {},
   "outputs": [
    {
     "name": "stderr",
     "output_type": "stream",
     "text": [
      "/Users/robpascarella/opt/anaconda3/lib/python3.7/site-packages/ipykernel_launcher.py:1: SettingWithCopyWarning: \n",
      "A value is trying to be set on a copy of a slice from a DataFrame.\n",
      "Try using .loc[row_indexer,col_indexer] = value instead\n",
      "\n",
      "See the caveats in the documentation: https://pandas.pydata.org/pandas-docs/stable/user_guide/indexing.html#returning-a-view-versus-a-copy\n",
      "  \"\"\"Entry point for launching an IPython kernel.\n",
      "/Users/robpascarella/opt/anaconda3/lib/python3.7/site-packages/ipykernel_launcher.py:2: SettingWithCopyWarning: \n",
      "A value is trying to be set on a copy of a slice from a DataFrame.\n",
      "Try using .loc[row_indexer,col_indexer] = value instead\n",
      "\n",
      "See the caveats in the documentation: https://pandas.pydata.org/pandas-docs/stable/user_guide/indexing.html#returning-a-view-versus-a-copy\n",
      "  \n",
      "/Users/robpascarella/opt/anaconda3/lib/python3.7/site-packages/ipykernel_launcher.py:3: SettingWithCopyWarning: \n",
      "A value is trying to be set on a copy of a slice from a DataFrame.\n",
      "Try using .loc[row_indexer,col_indexer] = value instead\n",
      "\n",
      "See the caveats in the documentation: https://pandas.pydata.org/pandas-docs/stable/user_guide/indexing.html#returning-a-view-versus-a-copy\n",
      "  This is separate from the ipykernel package so we can avoid doing imports until\n",
      "/Users/robpascarella/opt/anaconda3/lib/python3.7/site-packages/ipykernel_launcher.py:4: SettingWithCopyWarning: \n",
      "A value is trying to be set on a copy of a slice from a DataFrame.\n",
      "Try using .loc[row_indexer,col_indexer] = value instead\n",
      "\n",
      "See the caveats in the documentation: https://pandas.pydata.org/pandas-docs/stable/user_guide/indexing.html#returning-a-view-versus-a-copy\n",
      "  after removing the cwd from sys.path.\n",
      "/Users/robpascarella/opt/anaconda3/lib/python3.7/site-packages/ipykernel_launcher.py:5: SettingWithCopyWarning: \n",
      "A value is trying to be set on a copy of a slice from a DataFrame.\n",
      "Try using .loc[row_indexer,col_indexer] = value instead\n",
      "\n",
      "See the caveats in the documentation: https://pandas.pydata.org/pandas-docs/stable/user_guide/indexing.html#returning-a-view-versus-a-copy\n",
      "  \"\"\"\n"
     ]
    },
    {
     "data": {
      "text/html": [
       "<div>\n",
       "<style scoped>\n",
       "    .dataframe tbody tr th:only-of-type {\n",
       "        vertical-align: middle;\n",
       "    }\n",
       "\n",
       "    .dataframe tbody tr th {\n",
       "        vertical-align: top;\n",
       "    }\n",
       "\n",
       "    .dataframe thead th {\n",
       "        text-align: right;\n",
       "    }\n",
       "</style>\n",
       "<table border=\"1\" class=\"dataframe\">\n",
       "  <thead>\n",
       "    <tr style=\"text-align: right;\">\n",
       "      <th></th>\n",
       "      <th>long</th>\n",
       "      <th>lat</th>\n",
       "      <th>City</th>\n",
       "      <th>Country</th>\n",
       "      <th>Temperature</th>\n",
       "      <th>Humidity</th>\n",
       "      <th>Cloudiness</th>\n",
       "      <th>Wind Speed</th>\n",
       "      <th>Date</th>\n",
       "    </tr>\n",
       "  </thead>\n",
       "  <tbody>\n",
       "    <tr>\n",
       "      <th>0</th>\n",
       "      <td>-37.416897</td>\n",
       "      <td>80.665747</td>\n",
       "      <td>tasiilaq</td>\n",
       "      <td>gl</td>\n",
       "      <td></td>\n",
       "      <td></td>\n",
       "      <td></td>\n",
       "      <td></td>\n",
       "      <td></td>\n",
       "    </tr>\n",
       "    <tr>\n",
       "      <th>1</th>\n",
       "      <td>-143.904685</td>\n",
       "      <td>27.742013</td>\n",
       "      <td>hilo</td>\n",
       "      <td>us</td>\n",
       "      <td></td>\n",
       "      <td></td>\n",
       "      <td></td>\n",
       "      <td></td>\n",
       "      <td></td>\n",
       "    </tr>\n",
       "    <tr>\n",
       "      <th>2</th>\n",
       "      <td>32.221926</td>\n",
       "      <td>16.188584</td>\n",
       "      <td>umm durman</td>\n",
       "      <td>sd</td>\n",
       "      <td></td>\n",
       "      <td></td>\n",
       "      <td></td>\n",
       "      <td></td>\n",
       "      <td></td>\n",
       "    </tr>\n",
       "    <tr>\n",
       "      <th>3</th>\n",
       "      <td>-117.800827</td>\n",
       "      <td>-45.744561</td>\n",
       "      <td>rikitea</td>\n",
       "      <td>pf</td>\n",
       "      <td></td>\n",
       "      <td></td>\n",
       "      <td></td>\n",
       "      <td></td>\n",
       "      <td></td>\n",
       "    </tr>\n",
       "    <tr>\n",
       "      <th>4</th>\n",
       "      <td>119.788039</td>\n",
       "      <td>81.414945</td>\n",
       "      <td>saskylakh</td>\n",
       "      <td>ru</td>\n",
       "      <td></td>\n",
       "      <td></td>\n",
       "      <td></td>\n",
       "      <td></td>\n",
       "      <td></td>\n",
       "    </tr>\n",
       "  </tbody>\n",
       "</table>\n",
       "</div>"
      ],
      "text/plain": [
       "         long        lat        City Country Temperature Humidity Cloudiness  \\\n",
       "0  -37.416897  80.665747    tasiilaq      gl                                   \n",
       "1 -143.904685  27.742013        hilo      us                                   \n",
       "2   32.221926  16.188584  umm durman      sd                                   \n",
       "3 -117.800827 -45.744561     rikitea      pf                                   \n",
       "4  119.788039  81.414945   saskylakh      ru                                   \n",
       "\n",
       "  Wind Speed Date  \n",
       "0                  \n",
       "1                  \n",
       "2                  \n",
       "3                  \n",
       "4                  "
      ]
     },
     "execution_count": 15,
     "metadata": {},
     "output_type": "execute_result"
    }
   ],
   "source": [
    "## Creating cities df for data loop\n",
    "cities[\"Temperature\"]= \"\"\n",
    "cities[\"Humidity\"]= \"\"\n",
    "cities[\"Cloudiness\"] = \"\"\n",
    "cities[\"Wind Speed\"] = \"\"\n",
    "cities[\"Date\"]= \"\"\n",
    "cities.head()"
   ]
  },
  {
   "cell_type": "code",
   "execution_count": 61,
   "metadata": {},
   "outputs": [],
   "source": [
    "# A separate URL attempt from example ::: Saving this as a reference, as I'm sure the structure will be useful in the future. \n",
    "    \n",
    "# query_url=\"http://api.openweathermap.org/data/2.5/weather?q=%s&units=IMPERIAL&mode=json&APPID=%s\" % (row[\"City\"].replace(\" \",\"+\"), weather_api_key)\n",
    "# weather = requests.get(query_url).json()\n",
    "# pprint(weather)\n",
    "\n",
    "## from json printout I can see the dictionary in which the key:value pairs for the data I want to grab are avail\n",
    "\n",
    "#  \"Temperature\" -> [\"main\"][\"temp_max\"]\n",
    "#  \"Humidity\" -> [\"main\"][\"humidity\"]\n",
    "#  \"Cloudiness\" -> [\"clouds\"][\"all\"]\n",
    "#  \"Wind Speed\" -> [\"wind\"][\"speed\"]\n",
    "#  \"Date\" -> [\"dt\"]"
   ]
  },
  {
   "cell_type": "code",
   "execution_count": null,
   "metadata": {},
   "outputs": [],
   "source": []
  },
  {
   "cell_type": "code",
   "execution_count": 62,
   "metadata": {},
   "outputs": [
    {
     "name": "stdout",
     "output_type": "stream",
     "text": [
      "{'base': 'stations',\n",
      " 'clouds': {'all': 100},\n",
      " 'cod': 200,\n",
      " 'coord': {'lat': 54.76, 'lon': 83.1},\n",
      " 'dt': 1600099340,\n",
      " 'id': 1510350,\n",
      " 'main': {'feels_like': 50.2,\n",
      "          'humidity': 76,\n",
      "          'pressure': 1017,\n",
      "          'temp': 53.6,\n",
      "          'temp_max': 53.6,\n",
      "          'temp_min': 53.6},\n",
      " 'name': 'Berdsk',\n",
      " 'sys': {'country': 'RU',\n",
      "         'id': 8958,\n",
      "         'sunrise': 1600041516,\n",
      "         'sunset': 1600087676,\n",
      "         'type': 1},\n",
      " 'timezone': 25200,\n",
      " 'visibility': 10000,\n",
      " 'weather': [{'description': 'overcast clouds',\n",
      "              'icon': '04n',\n",
      "              'id': 804,\n",
      "              'main': 'Clouds'}],\n",
      " 'wind': {'deg': 70, 'speed': 4.47}}\n"
     ]
    }
   ],
   "source": [
    "# Printing the json return structure:\n",
    "\n",
    "base_url = \"http://api.openweathermap.org/data/2.5/weather?\"\n",
    "units = 'imperial'\n",
    "query = f\"{base_url}appid={weather_api_key}&units={units}&q=\"\n",
    "\n",
    "city = row['City']\n",
    "response = requests.get(query + city).json()\n",
    "pprint(response)"
   ]
  },
  {
   "cell_type": "code",
   "execution_count": null,
   "metadata": {},
   "outputs": [],
   "source": []
  },
  {
   "cell_type": "code",
   "execution_count": null,
   "metadata": {},
   "outputs": [],
   "source": []
  },
  {
   "cell_type": "code",
   "execution_count": null,
   "metadata": {},
   "outputs": [],
   "source": []
  },
  {
   "cell_type": "code",
   "execution_count": null,
   "metadata": {},
   "outputs": [],
   "source": []
  },
  {
   "cell_type": "code",
   "execution_count": 60,
   "metadata": {},
   "outputs": [
    {
     "name": "stdout",
     "output_type": "stream",
     "text": [
      "No data, skipping...\n"
     ]
    },
    {
     "name": "stderr",
     "output_type": "stream",
     "text": [
      "/Users/robpascarella/opt/anaconda3/lib/python3.7/site-packages/pandas/core/indexing.py:965: SettingWithCopyWarning: \n",
      "A value is trying to be set on a copy of a slice from a DataFrame.\n",
      "Try using .loc[row_indexer,col_indexer] = value instead\n",
      "\n",
      "See the caveats in the documentation: https://pandas.pydata.org/pandas-docs/stable/user_guide/indexing.html#returning-a-view-versus-a-copy\n",
      "  self.obj[item] = s\n"
     ]
    },
    {
     "name": "stdout",
     "output_type": "stream",
     "text": [
      "No data, skipping...\n",
      "No data, skipping...\n",
      "No data, skipping...\n",
      "No data, skipping...\n",
      "No data, skipping...\n",
      "No data, skipping...\n",
      "No data, skipping...\n",
      "No data, skipping...\n",
      "No data, skipping...\n",
      "No data, skipping...\n",
      "No data, skipping...\n",
      "No data, skipping...\n",
      "No data, skipping...\n",
      "No data, skipping...\n",
      "No data, skipping...\n",
      "No data, skipping...\n",
      "No data, skipping...\n",
      "No data, skipping...\n",
      "No data, skipping...\n",
      "No data, skipping...\n",
      "No data, skipping...\n",
      "No data, skipping...\n",
      "No data, skipping...\n",
      "No data, skipping...\n",
      "No data, skipping...\n",
      "No data, skipping...\n",
      "No data, skipping...\n",
      "No data, skipping...\n",
      "No data, skipping...\n",
      "No data, skipping...\n",
      "No data, skipping...\n",
      "No data, skipping...\n",
      "No data, skipping...\n",
      "No data, skipping...\n",
      "No data, skipping...\n",
      "No data, skipping...\n",
      "No data, skipping...\n",
      "No data, skipping...\n",
      "No data, skipping...\n",
      "No data, skipping...\n",
      "No data, skipping...\n"
     ]
    },
    {
     "data": {
      "text/html": [
       "<div>\n",
       "<style scoped>\n",
       "    .dataframe tbody tr th:only-of-type {\n",
       "        vertical-align: middle;\n",
       "    }\n",
       "\n",
       "    .dataframe tbody tr th {\n",
       "        vertical-align: top;\n",
       "    }\n",
       "\n",
       "    .dataframe thead th {\n",
       "        text-align: right;\n",
       "    }\n",
       "</style>\n",
       "<table border=\"1\" class=\"dataframe\">\n",
       "  <thead>\n",
       "    <tr style=\"text-align: right;\">\n",
       "      <th></th>\n",
       "      <th>long</th>\n",
       "      <th>lat</th>\n",
       "      <th>City</th>\n",
       "      <th>Country</th>\n",
       "      <th>Temperature</th>\n",
       "      <th>Humidity</th>\n",
       "      <th>Cloudiness</th>\n",
       "      <th>Wind Speed</th>\n",
       "      <th>Date</th>\n",
       "    </tr>\n",
       "  </thead>\n",
       "  <tbody>\n",
       "    <tr>\n",
       "      <th>0</th>\n",
       "      <td>10.781778</td>\n",
       "      <td>73.720745</td>\n",
       "      <td>barentsburg</td>\n",
       "      <td>sj</td>\n",
       "      <td>51.80</td>\n",
       "      <td>76.0</td>\n",
       "      <td>87.0</td>\n",
       "      <td>4.47</td>\n",
       "      <td>1.600052e+09</td>\n",
       "    </tr>\n",
       "    <tr>\n",
       "      <th>1</th>\n",
       "      <td>58.102896</td>\n",
       "      <td>-87.219568</td>\n",
       "      <td>east london</td>\n",
       "      <td>za</td>\n",
       "      <td>59.00</td>\n",
       "      <td>67.0</td>\n",
       "      <td>3.0</td>\n",
       "      <td>19.46</td>\n",
       "      <td>1.600099e+09</td>\n",
       "    </tr>\n",
       "    <tr>\n",
       "      <th>2</th>\n",
       "      <td>-99.318010</td>\n",
       "      <td>-80.038423</td>\n",
       "      <td>punta arenas</td>\n",
       "      <td>cl</td>\n",
       "      <td>46.40</td>\n",
       "      <td>61.0</td>\n",
       "      <td>20.0</td>\n",
       "      <td>40.26</td>\n",
       "      <td>1.600099e+09</td>\n",
       "    </tr>\n",
       "    <tr>\n",
       "      <th>3</th>\n",
       "      <td>176.342260</td>\n",
       "      <td>-10.508928</td>\n",
       "      <td>asau</td>\n",
       "      <td>tv</td>\n",
       "      <td>70.00</td>\n",
       "      <td>71.0</td>\n",
       "      <td>2.0</td>\n",
       "      <td>4.16</td>\n",
       "      <td>1.600100e+09</td>\n",
       "    </tr>\n",
       "    <tr>\n",
       "      <th>4</th>\n",
       "      <td>66.378518</td>\n",
       "      <td>42.581710</td>\n",
       "      <td>zhanakorgan</td>\n",
       "      <td>kz</td>\n",
       "      <td>72.48</td>\n",
       "      <td>23.0</td>\n",
       "      <td>0.0</td>\n",
       "      <td>10.98</td>\n",
       "      <td>1.600100e+09</td>\n",
       "    </tr>\n",
       "  </tbody>\n",
       "</table>\n",
       "</div>"
      ],
      "text/plain": [
       "         long        lat          City Country  Temperature  Humidity  \\\n",
       "0   10.781778  73.720745   barentsburg      sj        51.80      76.0   \n",
       "1   58.102896 -87.219568   east london      za        59.00      67.0   \n",
       "2  -99.318010 -80.038423  punta arenas      cl        46.40      61.0   \n",
       "3  176.342260 -10.508928          asau      tv        70.00      71.0   \n",
       "4   66.378518  42.581710   zhanakorgan      kz        72.48      23.0   \n",
       "\n",
       "   Cloudiness  Wind Speed          Date  \n",
       "0        87.0        4.47  1.600052e+09  \n",
       "1         3.0       19.46  1.600099e+09  \n",
       "2        20.0       40.26  1.600099e+09  \n",
       "3         2.0        4.16  1.600100e+09  \n",
       "4         0.0       10.98  1.600100e+09  "
      ]
     },
     "execution_count": 60,
     "metadata": {},
     "output_type": "execute_result"
    }
   ],
   "source": [
    "# Now, Loop through the cities to pull the weather search; this structure is example from class\n",
    "   \n",
    "      \n",
    "base_url = \"http://api.openweathermap.org/data/2.5/weather?\"\n",
    "units = 'imperial'\n",
    "query = f\"{base_url}appid={weather_api_key}&units={units}&q=\"\n",
    "\n",
    "\n",
    "for index, row in cities.iterrows():\n",
    "    \n",
    "    city = row['City']\n",
    "    response = requests.get(query + city).json()\n",
    "    \n",
    "    \n",
    "    try:\n",
    "        cities.loc[index,\"Temperature\"] = response[\"main\"][\"temp_max\"]\n",
    "        cities.loc[index,\"Humidity\"] = response[\"main\"][\"humidity\"]\n",
    "        cities.loc[index,\"Cloudiness\"] = response[\"clouds\"][\"all\"]\n",
    "        cities.loc[index,\"Wind Speed\"] = response[\"wind\"][\"speed\"]\n",
    "        cities.loc[index,\"Date\"] = response[\"dt\"]\n",
    "        #print(\"Success, next data...\")\n",
    "    except:\n",
    "        print(\"No data, skipping...\")  \n",
    " \n",
    "\n",
    "cities.head()\n",
    "\n"
   ]
  },
  {
   "cell_type": "code",
   "execution_count": null,
   "metadata": {},
   "outputs": [],
   "source": [
    "# Saving this data to csv, as requested in hw. \n",
    "\n",
    "cities.to_csv(\"City_Weather_Output.csv\")"
   ]
  },
  {
   "cell_type": "code",
   "execution_count": null,
   "metadata": {},
   "outputs": [],
   "source": []
  },
  {
   "cell_type": "code",
   "execution_count": null,
   "metadata": {},
   "outputs": [],
   "source": []
  },
  {
   "cell_type": "code",
   "execution_count": null,
   "metadata": {},
   "outputs": [],
   "source": []
  },
  {
   "cell_type": "code",
   "execution_count": 77,
   "metadata": {},
   "outputs": [
    {
     "data": {
      "text/html": [
       "<div>\n",
       "<style scoped>\n",
       "    .dataframe tbody tr th:only-of-type {\n",
       "        vertical-align: middle;\n",
       "    }\n",
       "\n",
       "    .dataframe tbody tr th {\n",
       "        vertical-align: top;\n",
       "    }\n",
       "\n",
       "    .dataframe thead th {\n",
       "        text-align: right;\n",
       "    }\n",
       "</style>\n",
       "<table border=\"1\" class=\"dataframe\">\n",
       "  <thead>\n",
       "    <tr style=\"text-align: right;\">\n",
       "      <th></th>\n",
       "      <th>long</th>\n",
       "      <th>lat</th>\n",
       "      <th>Temperature</th>\n",
       "      <th>Humidity</th>\n",
       "      <th>Cloudiness</th>\n",
       "      <th>Wind Speed</th>\n",
       "      <th>Date</th>\n",
       "    </tr>\n",
       "  </thead>\n",
       "  <tbody>\n",
       "    <tr>\n",
       "      <th>count</th>\n",
       "      <td>568.000000</td>\n",
       "      <td>568.000000</td>\n",
       "      <td>568.000000</td>\n",
       "      <td>568.000000</td>\n",
       "      <td>568.000000</td>\n",
       "      <td>568.000000</td>\n",
       "      <td>5.680000e+02</td>\n",
       "    </tr>\n",
       "    <tr>\n",
       "      <th>mean</th>\n",
       "      <td>25.890247</td>\n",
       "      <td>18.781696</td>\n",
       "      <td>67.259560</td>\n",
       "      <td>67.876761</td>\n",
       "      <td>50.473592</td>\n",
       "      <td>8.042201</td>\n",
       "      <td>1.600096e+09</td>\n",
       "    </tr>\n",
       "    <tr>\n",
       "      <th>std</th>\n",
       "      <td>93.152668</td>\n",
       "      <td>37.640439</td>\n",
       "      <td>16.907935</td>\n",
       "      <td>22.409582</td>\n",
       "      <td>37.709312</td>\n",
       "      <td>5.616310</td>\n",
       "      <td>1.238352e+04</td>\n",
       "    </tr>\n",
       "    <tr>\n",
       "      <th>min</th>\n",
       "      <td>-178.198412</td>\n",
       "      <td>-89.773918</td>\n",
       "      <td>28.400000</td>\n",
       "      <td>3.000000</td>\n",
       "      <td>0.000000</td>\n",
       "      <td>0.090000</td>\n",
       "      <td>1.600052e+09</td>\n",
       "    </tr>\n",
       "    <tr>\n",
       "      <th>25%</th>\n",
       "      <td>-52.862478</td>\n",
       "      <td>-9.376134</td>\n",
       "      <td>51.800000</td>\n",
       "      <td>56.000000</td>\n",
       "      <td>9.750000</td>\n",
       "      <td>4.470000</td>\n",
       "      <td>1.600099e+09</td>\n",
       "    </tr>\n",
       "    <tr>\n",
       "      <th>50%</th>\n",
       "      <td>34.006218</td>\n",
       "      <td>22.843387</td>\n",
       "      <td>69.010000</td>\n",
       "      <td>76.000000</td>\n",
       "      <td>51.000000</td>\n",
       "      <td>6.900000</td>\n",
       "      <td>1.600099e+09</td>\n",
       "    </tr>\n",
       "    <tr>\n",
       "      <th>75%</th>\n",
       "      <td>109.018119</td>\n",
       "      <td>49.116554</td>\n",
       "      <td>80.040000</td>\n",
       "      <td>85.000000</td>\n",
       "      <td>87.000000</td>\n",
       "      <td>10.290000</td>\n",
       "      <td>1.600099e+09</td>\n",
       "    </tr>\n",
       "    <tr>\n",
       "      <th>max</th>\n",
       "      <td>177.727830</td>\n",
       "      <td>88.087086</td>\n",
       "      <td>114.170000</td>\n",
       "      <td>100.000000</td>\n",
       "      <td>100.000000</td>\n",
       "      <td>40.260000</td>\n",
       "      <td>1.600100e+09</td>\n",
       "    </tr>\n",
       "  </tbody>\n",
       "</table>\n",
       "</div>"
      ],
      "text/plain": [
       "             long         lat  Temperature    Humidity  Cloudiness  \\\n",
       "count  568.000000  568.000000   568.000000  568.000000  568.000000   \n",
       "mean    25.890247   18.781696    67.259560   67.876761   50.473592   \n",
       "std     93.152668   37.640439    16.907935   22.409582   37.709312   \n",
       "min   -178.198412  -89.773918    28.400000    3.000000    0.000000   \n",
       "25%    -52.862478   -9.376134    51.800000   56.000000    9.750000   \n",
       "50%     34.006218   22.843387    69.010000   76.000000   51.000000   \n",
       "75%    109.018119   49.116554    80.040000   85.000000   87.000000   \n",
       "max    177.727830   88.087086   114.170000  100.000000  100.000000   \n",
       "\n",
       "       Wind Speed          Date  \n",
       "count  568.000000  5.680000e+02  \n",
       "mean     8.042201  1.600096e+09  \n",
       "std      5.616310  1.238352e+04  \n",
       "min      0.090000  1.600052e+09  \n",
       "25%      4.470000  1.600099e+09  \n",
       "50%      6.900000  1.600099e+09  \n",
       "75%     10.290000  1.600099e+09  \n",
       "max     40.260000  1.600100e+09  "
      ]
     },
     "execution_count": 77,
     "metadata": {},
     "output_type": "execute_result"
    }
   ],
   "source": [
    "# Inspecting the dataset per given notebook:\n",
    "\n",
    "cities.describe()"
   ]
  },
  {
   "cell_type": "code",
   "execution_count": null,
   "metadata": {},
   "outputs": [],
   "source": []
  },
  {
   "cell_type": "code",
   "execution_count": 86,
   "metadata": {},
   "outputs": [
    {
     "data": {
      "text/html": [
       "<div>\n",
       "<style scoped>\n",
       "    .dataframe tbody tr th:only-of-type {\n",
       "        vertical-align: middle;\n",
       "    }\n",
       "\n",
       "    .dataframe tbody tr th {\n",
       "        vertical-align: top;\n",
       "    }\n",
       "\n",
       "    .dataframe thead th {\n",
       "        text-align: right;\n",
       "    }\n",
       "</style>\n",
       "<table border=\"1\" class=\"dataframe\">\n",
       "  <thead>\n",
       "    <tr style=\"text-align: right;\">\n",
       "      <th></th>\n",
       "      <th>long</th>\n",
       "      <th>lat</th>\n",
       "      <th>City</th>\n",
       "      <th>Country</th>\n",
       "      <th>Temperature</th>\n",
       "      <th>Humidity</th>\n",
       "      <th>Cloudiness</th>\n",
       "      <th>Wind Speed</th>\n",
       "      <th>Date</th>\n",
       "    </tr>\n",
       "  </thead>\n",
       "  <tbody>\n",
       "    <tr>\n",
       "      <th>0</th>\n",
       "      <td>10.781778</td>\n",
       "      <td>73.720745</td>\n",
       "      <td>barentsburg</td>\n",
       "      <td>sj</td>\n",
       "      <td>51.80</td>\n",
       "      <td>76.0</td>\n",
       "      <td>87.0</td>\n",
       "      <td>4.47</td>\n",
       "      <td>1.600052e+09</td>\n",
       "    </tr>\n",
       "    <tr>\n",
       "      <th>1</th>\n",
       "      <td>58.102896</td>\n",
       "      <td>-87.219568</td>\n",
       "      <td>east london</td>\n",
       "      <td>za</td>\n",
       "      <td>59.00</td>\n",
       "      <td>67.0</td>\n",
       "      <td>3.0</td>\n",
       "      <td>19.46</td>\n",
       "      <td>1.600099e+09</td>\n",
       "    </tr>\n",
       "    <tr>\n",
       "      <th>2</th>\n",
       "      <td>-99.318010</td>\n",
       "      <td>-80.038423</td>\n",
       "      <td>punta arenas</td>\n",
       "      <td>cl</td>\n",
       "      <td>46.40</td>\n",
       "      <td>61.0</td>\n",
       "      <td>20.0</td>\n",
       "      <td>40.26</td>\n",
       "      <td>1.600099e+09</td>\n",
       "    </tr>\n",
       "    <tr>\n",
       "      <th>3</th>\n",
       "      <td>176.342260</td>\n",
       "      <td>-10.508928</td>\n",
       "      <td>asau</td>\n",
       "      <td>tv</td>\n",
       "      <td>70.00</td>\n",
       "      <td>71.0</td>\n",
       "      <td>2.0</td>\n",
       "      <td>4.16</td>\n",
       "      <td>1.600100e+09</td>\n",
       "    </tr>\n",
       "    <tr>\n",
       "      <th>4</th>\n",
       "      <td>66.378518</td>\n",
       "      <td>42.581710</td>\n",
       "      <td>zhanakorgan</td>\n",
       "      <td>kz</td>\n",
       "      <td>72.48</td>\n",
       "      <td>23.0</td>\n",
       "      <td>0.0</td>\n",
       "      <td>10.98</td>\n",
       "      <td>1.600100e+09</td>\n",
       "    </tr>\n",
       "    <tr>\n",
       "      <th>...</th>\n",
       "      <td>...</td>\n",
       "      <td>...</td>\n",
       "      <td>...</td>\n",
       "      <td>...</td>\n",
       "      <td>...</td>\n",
       "      <td>...</td>\n",
       "      <td>...</td>\n",
       "      <td>...</td>\n",
       "      <td>...</td>\n",
       "    </tr>\n",
       "    <tr>\n",
       "      <th>1281</th>\n",
       "      <td>-53.401941</td>\n",
       "      <td>4.810495</td>\n",
       "      <td>iracoubo</td>\n",
       "      <td>gf</td>\n",
       "      <td>86.36</td>\n",
       "      <td>62.0</td>\n",
       "      <td>1.0</td>\n",
       "      <td>9.17</td>\n",
       "      <td>1.600099e+09</td>\n",
       "    </tr>\n",
       "    <tr>\n",
       "      <th>1288</th>\n",
       "      <td>-91.956754</td>\n",
       "      <td>-17.441980</td>\n",
       "      <td>huarmey</td>\n",
       "      <td>pe</td>\n",
       "      <td>66.51</td>\n",
       "      <td>68.0</td>\n",
       "      <td>66.0</td>\n",
       "      <td>9.13</td>\n",
       "      <td>1.600099e+09</td>\n",
       "    </tr>\n",
       "    <tr>\n",
       "      <th>1293</th>\n",
       "      <td>140.914983</td>\n",
       "      <td>29.718047</td>\n",
       "      <td>shimoda</td>\n",
       "      <td>jp</td>\n",
       "      <td>68.00</td>\n",
       "      <td>95.0</td>\n",
       "      <td>34.0</td>\n",
       "      <td>1.01</td>\n",
       "      <td>1.600099e+09</td>\n",
       "    </tr>\n",
       "    <tr>\n",
       "      <th>1294</th>\n",
       "      <td>-81.519211</td>\n",
       "      <td>-49.769924</td>\n",
       "      <td>coihaique</td>\n",
       "      <td>cl</td>\n",
       "      <td>50.00</td>\n",
       "      <td>57.0</td>\n",
       "      <td>90.0</td>\n",
       "      <td>12.75</td>\n",
       "      <td>1.600099e+09</td>\n",
       "    </tr>\n",
       "    <tr>\n",
       "      <th>1296</th>\n",
       "      <td>82.946246</td>\n",
       "      <td>54.452858</td>\n",
       "      <td>berdsk</td>\n",
       "      <td>ru</td>\n",
       "      <td>53.60</td>\n",
       "      <td>76.0</td>\n",
       "      <td>100.0</td>\n",
       "      <td>4.47</td>\n",
       "      <td>1.600099e+09</td>\n",
       "    </tr>\n",
       "  </tbody>\n",
       "</table>\n",
       "<p>557 rows × 9 columns</p>\n",
       "</div>"
      ],
      "text/plain": [
       "            long        lat          City Country  Temperature  Humidity  \\\n",
       "0      10.781778  73.720745   barentsburg      sj        51.80      76.0   \n",
       "1      58.102896 -87.219568   east london      za        59.00      67.0   \n",
       "2     -99.318010 -80.038423  punta arenas      cl        46.40      61.0   \n",
       "3     176.342260 -10.508928          asau      tv        70.00      71.0   \n",
       "4      66.378518  42.581710   zhanakorgan      kz        72.48      23.0   \n",
       "...          ...        ...           ...     ...          ...       ...   \n",
       "1281  -53.401941   4.810495      iracoubo      gf        86.36      62.0   \n",
       "1288  -91.956754 -17.441980       huarmey      pe        66.51      68.0   \n",
       "1293  140.914983  29.718047       shimoda      jp        68.00      95.0   \n",
       "1294  -81.519211 -49.769924     coihaique      cl        50.00      57.0   \n",
       "1296   82.946246  54.452858        berdsk      ru        53.60      76.0   \n",
       "\n",
       "      Cloudiness  Wind Speed          Date  \n",
       "0           87.0        4.47  1.600052e+09  \n",
       "1            3.0       19.46  1.600099e+09  \n",
       "2           20.0       40.26  1.600099e+09  \n",
       "3            2.0        4.16  1.600100e+09  \n",
       "4            0.0       10.98  1.600100e+09  \n",
       "...          ...         ...           ...  \n",
       "1281         1.0        9.17  1.600099e+09  \n",
       "1288        66.0        9.13  1.600099e+09  \n",
       "1293        34.0        1.01  1.600099e+09  \n",
       "1294        90.0       12.75  1.600099e+09  \n",
       "1296       100.0        4.47  1.600099e+09  \n",
       "\n",
       "[557 rows x 9 columns]"
      ]
     },
     "execution_count": 86,
     "metadata": {},
     "output_type": "execute_result"
    }
   ],
   "source": [
    "# it doesn't look like there are cities with > 100% humidity (raining), which is what the instruction says, but I would imagine you'd want to filter out all raining places = 100%??\n",
    "# to remove them:\n",
    "\n",
    "no_rain = cities.loc[cities['Humidity'] < 100]\n",
    "no_rain\n",
    "\n",
    "### Already had the other plots made up -- just showing that I have this df it it's desired to plot the data, just as I have below. "
   ]
  },
  {
   "cell_type": "code",
   "execution_count": null,
   "metadata": {},
   "outputs": [],
   "source": []
  },
  {
   "cell_type": "code",
   "execution_count": null,
   "metadata": {},
   "outputs": [],
   "source": []
  },
  {
   "cell_type": "code",
   "execution_count": null,
   "metadata": {},
   "outputs": [],
   "source": []
  },
  {
   "cell_type": "code",
   "execution_count": null,
   "metadata": {},
   "outputs": [],
   "source": []
  },
  {
   "cell_type": "code",
   "execution_count": null,
   "metadata": {},
   "outputs": [],
   "source": []
  },
  {
   "cell_type": "code",
   "execution_count": 74,
   "metadata": {},
   "outputs": [],
   "source": []
  },
  {
   "cell_type": "code",
   "execution_count": null,
   "metadata": {},
   "outputs": [],
   "source": []
  },
  {
   "cell_type": "code",
   "execution_count": 64,
   "metadata": {},
   "outputs": [],
   "source": [
    "# Now onto creating the plots; revisiting the need from above:\n",
    "\n",
    "### this is the data I want:\n",
    "#1 Temperature (F) vs. Latitude\n",
    "#2 Humidity (%) vs. Latitude\n",
    "#3 Cloudiness (%) vs. Latitude\n",
    "#4 Wind Speed (mph) vs. Latitude\n",
    "\n"
   ]
  },
  {
   "cell_type": "code",
   "execution_count": 70,
   "metadata": {},
   "outputs": [
    {
     "data": {
      "image/png": "[encoded data removed]",
      "text/plain": [
       "<Figure size 432x288 with 1 Axes>"
      ]
     },
     "metadata": {
      "needs_background": "light"
     },
     "output_type": "display_data"
    }
   ],
   "source": [
    "lat = cities['lat']\n",
    "temp = cities['Temperature']\n",
    "\n",
    "#plt.figure(figsize=(7,5))\n",
    "plt.scatter(lat,temp)\n",
    "plt.xlabel('Latitude')\n",
    "plt.ylabel('Temperature (Deg F)')\n",
    "plt.show()\n"
   ]
  },
  {
   "cell_type": "code",
   "execution_count": null,
   "metadata": {},
   "outputs": [],
   "source": [
    "# Looks like temps are higher towards the 0 thru +25 latitude area, and lower in the extremes of the latitude areas +/-75 "
   ]
  },
  {
   "cell_type": "code",
   "execution_count": null,
   "metadata": {},
   "outputs": [],
   "source": []
  },
  {
   "cell_type": "code",
   "execution_count": 71,
   "metadata": {},
   "outputs": [
    {
     "data": {
      "image/png": "[encoded data removed]",
      "text/plain": [
       "<Figure size 432x288 with 1 Axes>"
      ]
     },
     "metadata": {
      "needs_background": "light"
     },
     "output_type": "display_data"
    }
   ],
   "source": [
    "lat = cities['lat']\n",
    "humidity = cities['Humidity']\n",
    "\n",
    "#plt.figure(figsize=(7,5))\n",
    "plt.scatter(lat,humidity)\n",
    "plt.xlabel('Latitude')\n",
    "plt.ylabel('Humidity %')\n",
    "plt.show()\n"
   ]
  },
  {
   "cell_type": "code",
   "execution_count": null,
   "metadata": {},
   "outputs": [],
   "source": [
    "# Looks like a large grouping of humidity is in the higher temps and a bit shifted towards the northern "
   ]
  },
  {
   "cell_type": "code",
   "execution_count": null,
   "metadata": {},
   "outputs": [],
   "source": []
  },
  {
   "cell_type": "code",
   "execution_count": 72,
   "metadata": {},
   "outputs": [
    {
     "data": {
      "image/png": "[encoded data removed]",
      "text/plain": [
       "<Figure size 432x288 with 1 Axes>"
      ]
     },
     "metadata": {
      "needs_background": "light"
     },
     "output_type": "display_data"
    }
   ],
   "source": [
    "lat = cities['lat']\n",
    "cloudiness = cities['Cloudiness']\n",
    "\n",
    "#plt.figure(figsize=(7,5))\n",
    "plt.scatter(lat,cloudiness)\n",
    "plt.xlabel('Latitude')\n",
    "plt.ylabel('Cloudiness %')\n",
    "plt.show()"
   ]
  },
  {
   "cell_type": "code",
   "execution_count": null,
   "metadata": {},
   "outputs": [],
   "source": [
    "# No real obvious correlations here - there seems to be some straight-line data in the round numbers: 20-40-80-100.\n",
    "# I would assume that these are locations in which they are generalizing the data (guessing/estimating) rather than measuring. "
   ]
  },
  {
   "cell_type": "code",
   "execution_count": null,
   "metadata": {},
   "outputs": [],
   "source": []
  },
  {
   "cell_type": "code",
   "execution_count": 73,
   "metadata": {},
   "outputs": [
    {
     "data": {
      "image/png": "[encoded data removed]",
      "text/plain": [
       "<Figure size 432x288 with 1 Axes>"
      ]
     },
     "metadata": {
      "needs_background": "light"
     },
     "output_type": "display_data"
    }
   ],
   "source": [
    "lat = cities['lat']\n",
    "wind = cities['Wind Speed']\n",
    "\n",
    "#plt.figure(figsize=(7,5))\n",
    "plt.scatter(lat,wind)\n",
    "plt.xlabel('Latitude')\n",
    "plt.ylabel('Wind Speed MPH')\n",
    "plt.show()"
   ]
  },
  {
   "cell_type": "code",
   "execution_count": 91,
   "metadata": {},
   "outputs": [],
   "source": [
    "# I don't really see a strong correlation or grouping here\n",
    "# Other observations can be noted:  the concentration of data points is low wind speeds in the -30 to +60 latitude area in which most of cities lie in the world. "
   ]
  },
  {
   "cell_type": "code",
   "execution_count": null,
   "metadata": {},
   "outputs": [],
   "source": []
  },
  {
   "cell_type": "code",
   "execution_count": 131,
   "metadata": {},
   "outputs": [],
   "source": [
    "# The next section asks to split the data into Northern / Southern Hemisphere and plot the following, with linear regression:\n",
    "\n",
    "# Northern Hemisphere - Temperature (F) vs. Latitude\n",
    "# Southern Hemisphere - Temperature (F) vs. Latitude\n",
    "# Northern Hemisphere - Humidity (%) vs. Latitude\n",
    "# Southern Hemisphere - Humidity (%) vs. Latitude\n",
    "# Northern Hemisphere - Cloudiness (%) vs. Latitude\n",
    "# Southern Hemisphere - Cloudiness (%) vs. Latitude\n",
    "# Northern Hemisphere - Wind Speed (mph) vs. Latitude\n",
    "# Southern Hemisphere - Wind Speed (mph) vs. Latitude\n",
    "\n",
    "\n",
    "\n",
    "\n",
    "\n",
    "# # from class examples -- these are the linear regression equations:\n",
    "# vc_slope, vc_int, vc_r, vc_p, vc_std_err = stats.linregress(year, violent_crime_rate)\n",
    "# vc_fit = vc_slope * year + vc_int\n",
    "\n",
    "# plt.figure(figsize=(10,8))\n",
    "# plt.scatter(year, violent_crime_rate)\n",
    "# plt.plot(year, vc_fit, linestyle=\"--\", color='red')\n",
    "\n",
    "# plt.xticks(year, rotation=90)\n",
    "# plt.title(\"Crime Rate Regression (1994-2013)\")\n",
    "# plt.xlabel('Year')\n",
    "# plt.ylabel('Violent Crime Rate')\n",
    "# plt.show()"
   ]
  },
  {
   "cell_type": "code",
   "execution_count": 132,
   "metadata": {},
   "outputs": [
    {
     "data": {
      "text/html": [
       "<div>\n",
       "<style scoped>\n",
       "    .dataframe tbody tr th:only-of-type {\n",
       "        vertical-align: middle;\n",
       "    }\n",
       "\n",
       "    .dataframe tbody tr th {\n",
       "        vertical-align: top;\n",
       "    }\n",
       "\n",
       "    .dataframe thead th {\n",
       "        text-align: right;\n",
       "    }\n",
       "</style>\n",
       "<table border=\"1\" class=\"dataframe\">\n",
       "  <thead>\n",
       "    <tr style=\"text-align: right;\">\n",
       "      <th></th>\n",
       "      <th>long</th>\n",
       "      <th>lat</th>\n",
       "      <th>City</th>\n",
       "      <th>Country</th>\n",
       "      <th>Temperature</th>\n",
       "      <th>Humidity</th>\n",
       "      <th>Cloudiness</th>\n",
       "      <th>Wind Speed</th>\n",
       "      <th>Date</th>\n",
       "    </tr>\n",
       "  </thead>\n",
       "  <tbody>\n",
       "    <tr>\n",
       "      <th>0</th>\n",
       "      <td>10.781778</td>\n",
       "      <td>73.720745</td>\n",
       "      <td>barentsburg</td>\n",
       "      <td>sj</td>\n",
       "      <td>51.80</td>\n",
       "      <td>76.0</td>\n",
       "      <td>87.0</td>\n",
       "      <td>4.47</td>\n",
       "      <td>1.600052e+09</td>\n",
       "    </tr>\n",
       "    <tr>\n",
       "      <th>4</th>\n",
       "      <td>66.378518</td>\n",
       "      <td>42.581710</td>\n",
       "      <td>zhanakorgan</td>\n",
       "      <td>kz</td>\n",
       "      <td>72.48</td>\n",
       "      <td>23.0</td>\n",
       "      <td>0.0</td>\n",
       "      <td>10.98</td>\n",
       "      <td>1.600100e+09</td>\n",
       "    </tr>\n",
       "    <tr>\n",
       "      <th>8</th>\n",
       "      <td>148.776172</td>\n",
       "      <td>64.514670</td>\n",
       "      <td>shirokiy</td>\n",
       "      <td>ru</td>\n",
       "      <td>56.64</td>\n",
       "      <td>86.0</td>\n",
       "      <td>100.0</td>\n",
       "      <td>5.21</td>\n",
       "      <td>1.600100e+09</td>\n",
       "    </tr>\n",
       "    <tr>\n",
       "      <th>9</th>\n",
       "      <td>-118.257668</td>\n",
       "      <td>53.016707</td>\n",
       "      <td>jasper</td>\n",
       "      <td>ca</td>\n",
       "      <td>70.00</td>\n",
       "      <td>82.0</td>\n",
       "      <td>20.0</td>\n",
       "      <td>5.82</td>\n",
       "      <td>1.600100e+09</td>\n",
       "    </tr>\n",
       "    <tr>\n",
       "      <th>10</th>\n",
       "      <td>-42.292184</td>\n",
       "      <td>35.798308</td>\n",
       "      <td>ribeira grande</td>\n",
       "      <td>pt</td>\n",
       "      <td>71.60</td>\n",
       "      <td>53.0</td>\n",
       "      <td>20.0</td>\n",
       "      <td>17.22</td>\n",
       "      <td>1.600100e+09</td>\n",
       "    </tr>\n",
       "    <tr>\n",
       "      <th>...</th>\n",
       "      <td>...</td>\n",
       "      <td>...</td>\n",
       "      <td>...</td>\n",
       "      <td>...</td>\n",
       "      <td>...</td>\n",
       "      <td>...</td>\n",
       "      <td>...</td>\n",
       "      <td>...</td>\n",
       "      <td>...</td>\n",
       "    </tr>\n",
       "    <tr>\n",
       "      <th>1281</th>\n",
       "      <td>-53.401941</td>\n",
       "      <td>4.810495</td>\n",
       "      <td>iracoubo</td>\n",
       "      <td>gf</td>\n",
       "      <td>86.36</td>\n",
       "      <td>62.0</td>\n",
       "      <td>1.0</td>\n",
       "      <td>9.17</td>\n",
       "      <td>1.600099e+09</td>\n",
       "    </tr>\n",
       "    <tr>\n",
       "      <th>1282</th>\n",
       "      <td>-54.166062</td>\n",
       "      <td>49.728862</td>\n",
       "      <td>gander</td>\n",
       "      <td>ca</td>\n",
       "      <td>62.60</td>\n",
       "      <td>100.0</td>\n",
       "      <td>90.0</td>\n",
       "      <td>12.75</td>\n",
       "      <td>1.600099e+09</td>\n",
       "    </tr>\n",
       "    <tr>\n",
       "      <th>1289</th>\n",
       "      <td>-120.215839</td>\n",
       "      <td>32.306494</td>\n",
       "      <td>port hueneme</td>\n",
       "      <td>us</td>\n",
       "      <td>66.00</td>\n",
       "      <td>100.0</td>\n",
       "      <td>90.0</td>\n",
       "      <td>3.36</td>\n",
       "      <td>1.600099e+09</td>\n",
       "    </tr>\n",
       "    <tr>\n",
       "      <th>1293</th>\n",
       "      <td>140.914983</td>\n",
       "      <td>29.718047</td>\n",
       "      <td>shimoda</td>\n",
       "      <td>jp</td>\n",
       "      <td>68.00</td>\n",
       "      <td>95.0</td>\n",
       "      <td>34.0</td>\n",
       "      <td>1.01</td>\n",
       "      <td>1.600099e+09</td>\n",
       "    </tr>\n",
       "    <tr>\n",
       "      <th>1296</th>\n",
       "      <td>82.946246</td>\n",
       "      <td>54.452858</td>\n",
       "      <td>berdsk</td>\n",
       "      <td>ru</td>\n",
       "      <td>53.60</td>\n",
       "      <td>76.0</td>\n",
       "      <td>100.0</td>\n",
       "      <td>4.47</td>\n",
       "      <td>1.600099e+09</td>\n",
       "    </tr>\n",
       "  </tbody>\n",
       "</table>\n",
       "<p>389 rows × 9 columns</p>\n",
       "</div>"
      ],
      "text/plain": [
       "            long        lat            City Country  Temperature  Humidity  \\\n",
       "0      10.781778  73.720745     barentsburg      sj        51.80      76.0   \n",
       "4      66.378518  42.581710     zhanakorgan      kz        72.48      23.0   \n",
       "8     148.776172  64.514670        shirokiy      ru        56.64      86.0   \n",
       "9    -118.257668  53.016707          jasper      ca        70.00      82.0   \n",
       "10    -42.292184  35.798308  ribeira grande      pt        71.60      53.0   \n",
       "...          ...        ...             ...     ...          ...       ...   \n",
       "1281  -53.401941   4.810495        iracoubo      gf        86.36      62.0   \n",
       "1282  -54.166062  49.728862          gander      ca        62.60     100.0   \n",
       "1289 -120.215839  32.306494    port hueneme      us        66.00     100.0   \n",
       "1293  140.914983  29.718047         shimoda      jp        68.00      95.0   \n",
       "1296   82.946246  54.452858          berdsk      ru        53.60      76.0   \n",
       "\n",
       "      Cloudiness  Wind Speed          Date  \n",
       "0           87.0        4.47  1.600052e+09  \n",
       "4            0.0       10.98  1.600100e+09  \n",
       "8          100.0        5.21  1.600100e+09  \n",
       "9           20.0        5.82  1.600100e+09  \n",
       "10          20.0       17.22  1.600100e+09  \n",
       "...          ...         ...           ...  \n",
       "1281         1.0        9.17  1.600099e+09  \n",
       "1282        90.0       12.75  1.600099e+09  \n",
       "1289        90.0        3.36  1.600099e+09  \n",
       "1293        34.0        1.01  1.600099e+09  \n",
       "1296       100.0        4.47  1.600099e+09  \n",
       "\n",
       "[389 rows x 9 columns]"
      ]
     },
     "execution_count": 132,
     "metadata": {},
     "output_type": "execute_result"
    }
   ],
   "source": [
    "northern_cities = cities.loc[cities['lat'] >= 0]\n",
    "northern_cities\n",
    "     "
   ]
  },
  {
   "cell_type": "code",
   "execution_count": 133,
   "metadata": {},
   "outputs": [
    {
     "data": {
      "text/html": [
       "<div>\n",
       "<style scoped>\n",
       "    .dataframe tbody tr th:only-of-type {\n",
       "        vertical-align: middle;\n",
       "    }\n",
       "\n",
       "    .dataframe tbody tr th {\n",
       "        vertical-align: top;\n",
       "    }\n",
       "\n",
       "    .dataframe thead th {\n",
       "        text-align: right;\n",
       "    }\n",
       "</style>\n",
       "<table border=\"1\" class=\"dataframe\">\n",
       "  <thead>\n",
       "    <tr style=\"text-align: right;\">\n",
       "      <th></th>\n",
       "      <th>long</th>\n",
       "      <th>lat</th>\n",
       "      <th>City</th>\n",
       "      <th>Country</th>\n",
       "      <th>Temperature</th>\n",
       "      <th>Humidity</th>\n",
       "      <th>Cloudiness</th>\n",
       "      <th>Wind Speed</th>\n",
       "      <th>Date</th>\n",
       "    </tr>\n",
       "  </thead>\n",
       "  <tbody>\n",
       "    <tr>\n",
       "      <th>1</th>\n",
       "      <td>58.102896</td>\n",
       "      <td>-87.219568</td>\n",
       "      <td>east london</td>\n",
       "      <td>za</td>\n",
       "      <td>59.00</td>\n",
       "      <td>67.0</td>\n",
       "      <td>3.0</td>\n",
       "      <td>19.46</td>\n",
       "      <td>1.600099e+09</td>\n",
       "    </tr>\n",
       "    <tr>\n",
       "      <th>2</th>\n",
       "      <td>-99.318010</td>\n",
       "      <td>-80.038423</td>\n",
       "      <td>punta arenas</td>\n",
       "      <td>cl</td>\n",
       "      <td>46.40</td>\n",
       "      <td>61.0</td>\n",
       "      <td>20.0</td>\n",
       "      <td>40.26</td>\n",
       "      <td>1.600099e+09</td>\n",
       "    </tr>\n",
       "    <tr>\n",
       "      <th>3</th>\n",
       "      <td>176.342260</td>\n",
       "      <td>-10.508928</td>\n",
       "      <td>asau</td>\n",
       "      <td>tv</td>\n",
       "      <td>70.00</td>\n",
       "      <td>71.0</td>\n",
       "      <td>2.0</td>\n",
       "      <td>4.16</td>\n",
       "      <td>1.600100e+09</td>\n",
       "    </tr>\n",
       "    <tr>\n",
       "      <th>5</th>\n",
       "      <td>25.571831</td>\n",
       "      <td>-89.773918</td>\n",
       "      <td>bredasdorp</td>\n",
       "      <td>za</td>\n",
       "      <td>59.00</td>\n",
       "      <td>47.0</td>\n",
       "      <td>71.0</td>\n",
       "      <td>12.75</td>\n",
       "      <td>1.600100e+09</td>\n",
       "    </tr>\n",
       "    <tr>\n",
       "      <th>6</th>\n",
       "      <td>12.734747</td>\n",
       "      <td>-6.516690</td>\n",
       "      <td>soyo</td>\n",
       "      <td>ao</td>\n",
       "      <td>76.42</td>\n",
       "      <td>71.0</td>\n",
       "      <td>67.0</td>\n",
       "      <td>9.82</td>\n",
       "      <td>1.600100e+09</td>\n",
       "    </tr>\n",
       "    <tr>\n",
       "      <th>...</th>\n",
       "      <td>...</td>\n",
       "      <td>...</td>\n",
       "      <td>...</td>\n",
       "      <td>...</td>\n",
       "      <td>...</td>\n",
       "      <td>...</td>\n",
       "      <td>...</td>\n",
       "      <td>...</td>\n",
       "      <td>...</td>\n",
       "    </tr>\n",
       "    <tr>\n",
       "      <th>1265</th>\n",
       "      <td>87.499519</td>\n",
       "      <td>-7.993369</td>\n",
       "      <td>padang</td>\n",
       "      <td>id</td>\n",
       "      <td>78.93</td>\n",
       "      <td>76.0</td>\n",
       "      <td>100.0</td>\n",
       "      <td>1.88</td>\n",
       "      <td>1.600099e+09</td>\n",
       "    </tr>\n",
       "    <tr>\n",
       "      <th>1273</th>\n",
       "      <td>-5.826060</td>\n",
       "      <td>-0.786483</td>\n",
       "      <td>tabou</td>\n",
       "      <td>ci</td>\n",
       "      <td>77.67</td>\n",
       "      <td>84.0</td>\n",
       "      <td>92.0</td>\n",
       "      <td>13.35</td>\n",
       "      <td>1.600099e+09</td>\n",
       "    </tr>\n",
       "    <tr>\n",
       "      <th>1277</th>\n",
       "      <td>137.504972</td>\n",
       "      <td>-35.766357</td>\n",
       "      <td>victor harbor</td>\n",
       "      <td>au</td>\n",
       "      <td>44.01</td>\n",
       "      <td>89.0</td>\n",
       "      <td>0.0</td>\n",
       "      <td>2.19</td>\n",
       "      <td>1.600099e+09</td>\n",
       "    </tr>\n",
       "    <tr>\n",
       "      <th>1288</th>\n",
       "      <td>-91.956754</td>\n",
       "      <td>-17.441980</td>\n",
       "      <td>huarmey</td>\n",
       "      <td>pe</td>\n",
       "      <td>66.51</td>\n",
       "      <td>68.0</td>\n",
       "      <td>66.0</td>\n",
       "      <td>9.13</td>\n",
       "      <td>1.600099e+09</td>\n",
       "    </tr>\n",
       "    <tr>\n",
       "      <th>1294</th>\n",
       "      <td>-81.519211</td>\n",
       "      <td>-49.769924</td>\n",
       "      <td>coihaique</td>\n",
       "      <td>cl</td>\n",
       "      <td>50.00</td>\n",
       "      <td>57.0</td>\n",
       "      <td>90.0</td>\n",
       "      <td>12.75</td>\n",
       "      <td>1.600099e+09</td>\n",
       "    </tr>\n",
       "  </tbody>\n",
       "</table>\n",
       "<p>179 rows × 9 columns</p>\n",
       "</div>"
      ],
      "text/plain": [
       "            long        lat           City Country  Temperature  Humidity  \\\n",
       "1      58.102896 -87.219568    east london      za        59.00      67.0   \n",
       "2     -99.318010 -80.038423   punta arenas      cl        46.40      61.0   \n",
       "3     176.342260 -10.508928           asau      tv        70.00      71.0   \n",
       "5      25.571831 -89.773918     bredasdorp      za        59.00      47.0   \n",
       "6      12.734747  -6.516690           soyo      ao        76.42      71.0   \n",
       "...          ...        ...            ...     ...          ...       ...   \n",
       "1265   87.499519  -7.993369         padang      id        78.93      76.0   \n",
       "1273   -5.826060  -0.786483          tabou      ci        77.67      84.0   \n",
       "1277  137.504972 -35.766357  victor harbor      au        44.01      89.0   \n",
       "1288  -91.956754 -17.441980        huarmey      pe        66.51      68.0   \n",
       "1294  -81.519211 -49.769924      coihaique      cl        50.00      57.0   \n",
       "\n",
       "      Cloudiness  Wind Speed          Date  \n",
       "1            3.0       19.46  1.600099e+09  \n",
       "2           20.0       40.26  1.600099e+09  \n",
       "3            2.0        4.16  1.600100e+09  \n",
       "5           71.0       12.75  1.600100e+09  \n",
       "6           67.0        9.82  1.600100e+09  \n",
       "...          ...         ...           ...  \n",
       "1265       100.0        1.88  1.600099e+09  \n",
       "1273        92.0       13.35  1.600099e+09  \n",
       "1277         0.0        2.19  1.600099e+09  \n",
       "1288        66.0        9.13  1.600099e+09  \n",
       "1294        90.0       12.75  1.600099e+09  \n",
       "\n",
       "[179 rows x 9 columns]"
      ]
     },
     "execution_count": 133,
     "metadata": {},
     "output_type": "execute_result"
    }
   ],
   "source": [
    "southern_cities = cities.loc[cities['lat'] < 0]\n",
    "southern_cities"
   ]
  },
  {
   "cell_type": "code",
   "execution_count": 134,
   "metadata": {},
   "outputs": [],
   "source": [
    "from scipy import stats"
   ]
  },
  {
   "cell_type": "code",
   "execution_count": 135,
   "metadata": {},
   "outputs": [
    {
     "data": {
      "image/png": "[encoded data removed]",
      "text/plain": [
       "<Figure size 432x288 with 1 Axes>"
      ]
     },
     "metadata": {
      "needs_background": "light"
     },
     "output_type": "display_data"
    },
    {
     "data": {
      "text/plain": [
       "<Figure size 432x288 with 0 Axes>"
      ]
     },
     "metadata": {},
     "output_type": "display_data"
    }
   ],
   "source": [
    "# Northern Cities Temp Vs. Lat ....... with regress.\n",
    "\n",
    "nlat = northern_cities['lat']\n",
    "ntemp = northern_cities['Temperature']\n",
    "\n",
    "vc_slope, vc_int, vc_r, vc_p, vc_std_err = stats.linregress(nlat, ntemp)\n",
    "vc_fit = vc_slope * nlat + vc_int\n",
    "\n",
    "# plt.figure(figsize=(10,8))\n",
    "plt.scatter(nlat, ntemp)\n",
    "plt.plot(nlat, vc_fit, linestyle=\"--\", color='red')\n",
    "\n",
    "plt.title(\"Northern City Temperature vs. Latitude\")\n",
    "plt.xlabel('Latitude')\n",
    "plt.ylabel('Temperature (F)')\n",
    "plt.show()\n",
    "plt.savefig(\"northern_cities_temps.png\")"
   ]
  },
  {
   "cell_type": "code",
   "execution_count": 136,
   "metadata": {},
   "outputs": [],
   "source": [
    "# This linear regression definitively shows an increasing trend of temps as the city location moves towards the equator."
   ]
  },
  {
   "cell_type": "code",
   "execution_count": null,
   "metadata": {},
   "outputs": [],
   "source": []
  },
  {
   "cell_type": "code",
   "execution_count": 137,
   "metadata": {},
   "outputs": [
    {
     "data": {
      "image/png": "[encoded data removed]",
      "text/plain": [
       "<Figure size 432x288 with 1 Axes>"
      ]
     },
     "metadata": {
      "needs_background": "light"
     },
     "output_type": "display_data"
    },
    {
     "data": {
      "text/plain": [
       "<Figure size 432x288 with 0 Axes>"
      ]
     },
     "metadata": {},
     "output_type": "display_data"
    }
   ],
   "source": [
    "# Southern Cities Temp Vs. Lat ....... with regress.\n",
    "\n",
    "slat = southern_cities['lat']\n",
    "stemp = southern_cities['Temperature']\n",
    "\n",
    "vc_slope, vc_int, vc_r, vc_p, vc_std_err = stats.linregress(slat, stemp)\n",
    "vc_fit = vc_slope * slat + vc_int\n",
    "\n",
    "# plt.figure(figsize=(10,8))\n",
    "plt.scatter(slat, stemp)\n",
    "plt.plot(slat, vc_fit, linestyle=\"--\", color='red')\n",
    "\n",
    "plt.title(\"Southern City Temperature vs. Latitude\")\n",
    "plt.xlabel('Latitude')\n",
    "plt.ylabel('Temperature (F)')\n",
    "plt.show()\n",
    "plt.savefig(\"southern_cities_temps.png\")"
   ]
  },
  {
   "cell_type": "code",
   "execution_count": 138,
   "metadata": {},
   "outputs": [],
   "source": [
    "# Again, thislinear regression definitively shows an increasing trend of temps as the city location moves towards the equator."
   ]
  },
  {
   "cell_type": "code",
   "execution_count": null,
   "metadata": {},
   "outputs": [],
   "source": []
  },
  {
   "cell_type": "code",
   "execution_count": 139,
   "metadata": {},
   "outputs": [
    {
     "data": {
      "image/png": "[encoded data removed]",
      "text/plain": [
       "<Figure size 432x288 with 1 Axes>"
      ]
     },
     "metadata": {
      "needs_background": "light"
     },
     "output_type": "display_data"
    },
    {
     "data": {
      "text/plain": [
       "<Figure size 432x288 with 0 Axes>"
      ]
     },
     "metadata": {},
     "output_type": "display_data"
    }
   ],
   "source": [
    "# Northern Cities Humidity Vs. Lat ....... with regress.\n",
    "\n",
    "nlat = northern_cities['lat']\n",
    "nhum = northern_cities['Humidity']\n",
    "\n",
    "vc_slope, vc_int, vc_r, vc_p, vc_std_err = stats.linregress(nlat, nhum)\n",
    "vc_fit = vc_slope * nlat + vc_int\n",
    "\n",
    "# plt.figure(figsize=(10,8))\n",
    "plt.scatter(nlat, nhum)\n",
    "plt.plot(nlat, vc_fit, linestyle=\"--\", color='red')\n",
    "\n",
    "plt.title(\"Northern City Humidity vs. Latitude\")\n",
    "plt.xlabel('Latitude')\n",
    "plt.ylabel('Humidity %')\n",
    "plt.show()\n",
    "plt.savefig(\"northern_cities_humidity.png\")"
   ]
  },
  {
   "cell_type": "code",
   "execution_count": 140,
   "metadata": {},
   "outputs": [],
   "source": [
    "# I don't particularly think this shows much of a correlation - but the trend line does slightly increase away from the equator "
   ]
  },
  {
   "cell_type": "code",
   "execution_count": null,
   "metadata": {},
   "outputs": [],
   "source": []
  },
  {
   "cell_type": "code",
   "execution_count": 141,
   "metadata": {},
   "outputs": [
    {
     "data": {
      "image/png": "[encoded data removed]",
      "text/plain": [
       "<Figure size 432x288 with 1 Axes>"
      ]
     },
     "metadata": {
      "needs_background": "light"
     },
     "output_type": "display_data"
    },
    {
     "data": {
      "text/plain": [
       "<Figure size 432x288 with 0 Axes>"
      ]
     },
     "metadata": {},
     "output_type": "display_data"
    }
   ],
   "source": [
    "# Southern Cities Humidity Vs. Lat ....... with regress.\n",
    "\n",
    "slat = southern_cities['lat']\n",
    "shum = southern_cities['Humidity']\n",
    "\n",
    "vc_slope, vc_int, vc_r, vc_p, vc_std_err = stats.linregress(slat, shum)\n",
    "vc_fit = vc_slope * slat + vc_int\n",
    "\n",
    "# plt.figure(figsize=(10,8))\n",
    "plt.scatter(slat, shum)\n",
    "plt.plot(slat, vc_fit, linestyle=\"--\", color='red')\n",
    "\n",
    "plt.title(\"Southern City Humidity vs. Latitude\")\n",
    "plt.xlabel('Latitude')\n",
    "plt.ylabel('Humidity %')\n",
    "plt.show()\n",
    "plt.savefig(\"southern_cities_humidity.png\")"
   ]
  },
  {
   "cell_type": "code",
   "execution_count": 142,
   "metadata": {},
   "outputs": [],
   "source": [
    "# This regression line is almost totally flat, so as noted in the northern hemishphere as well, latitude does not particularly play a role in regard to humidity. "
   ]
  },
  {
   "cell_type": "code",
   "execution_count": null,
   "metadata": {},
   "outputs": [],
   "source": []
  },
  {
   "cell_type": "code",
   "execution_count": 145,
   "metadata": {},
   "outputs": [
    {
     "data": {
      "image/png": "[encoded data removed]",
      "text/plain": [
       "<Figure size 432x288 with 1 Axes>"
      ]
     },
     "metadata": {
      "needs_background": "light"
     },
     "output_type": "display_data"
    },
    {
     "data": {
      "text/plain": [
       "<Figure size 432x288 with 0 Axes>"
      ]
     },
     "metadata": {},
     "output_type": "display_data"
    }
   ],
   "source": [
    "# Northern Cities Cloudiness Vs. Lat ....... with regress.\n",
    "\n",
    "nlat = northern_cities['lat']\n",
    "ncloud = northern_cities['Cloudiness']\n",
    "\n",
    "vc_slope, vc_int, vc_r, vc_p, vc_std_err = stats.linregress(nlat, ncloud)\n",
    "vc_fit = vc_slope * nlat + vc_int\n",
    "\n",
    "# plt.figure(figsize=(10,8))\n",
    "plt.scatter(nlat, ncloud)\n",
    "plt.plot(nlat, vc_fit, linestyle=\"--\", color='red')\n",
    "\n",
    "plt.title(\"Northern City Cloudiness vs. Latitude\")\n",
    "plt.xlabel('Latitude')\n",
    "plt.ylabel('Cloudiness %')\n",
    "plt.show()\n",
    "plt.savefig(\"northern_cities_cloudiness.png\")"
   ]
  },
  {
   "cell_type": "code",
   "execution_count": 146,
   "metadata": {},
   "outputs": [],
   "source": [
    "# visually, although the trend line trends negatively towards the equator, cloudiness does correlate to latitude.\n"
   ]
  },
  {
   "cell_type": "code",
   "execution_count": null,
   "metadata": {},
   "outputs": [],
   "source": []
  },
  {
   "cell_type": "code",
   "execution_count": 147,
   "metadata": {},
   "outputs": [
    {
     "data": {
      "image/png": "[encoded data removed]",
      "text/plain": [
       "<Figure size 432x288 with 1 Axes>"
      ]
     },
     "metadata": {
      "needs_background": "light"
     },
     "output_type": "display_data"
    },
    {
     "data": {
      "text/plain": [
       "<Figure size 432x288 with 0 Axes>"
      ]
     },
     "metadata": {},
     "output_type": "display_data"
    }
   ],
   "source": [
    "# Southern Cities Cloudiness Vs. Lat ....... with regress.\n",
    "\n",
    "slat = southern_cities['lat']\n",
    "scloud = southern_cities['Cloudiness']\n",
    "\n",
    "vc_slope, vc_int, vc_r, vc_p, vc_std_err = stats.linregress(slat, scloud)\n",
    "vc_fit = vc_slope * slat + vc_int\n",
    "\n",
    "# plt.figure(figsize=(10,8))\n",
    "plt.scatter(slat, scloud)\n",
    "plt.plot(slat, vc_fit, linestyle=\"--\", color='red')\n",
    "\n",
    "plt.title(\"Southern City Cloudiness vs. Latitude\")\n",
    "plt.xlabel('Latitude')\n",
    "plt.ylabel('Cloudiness %')\n",
    "plt.show()\n",
    "plt.savefig(\"southern_cities_cloudiness.png\")"
   ]
  },
  {
   "cell_type": "code",
   "execution_count": 148,
   "metadata": {},
   "outputs": [],
   "source": [
    "# visually, although the trend line trends positively towards the equator, cloudiness does correlate to latitude.\n"
   ]
  },
  {
   "cell_type": "code",
   "execution_count": null,
   "metadata": {},
   "outputs": [],
   "source": []
  },
  {
   "cell_type": "code",
   "execution_count": 149,
   "metadata": {},
   "outputs": [
    {
     "data": {
      "image/png": "[encoded data removed]",
      "text/plain": [
       "<Figure size 432x288 with 1 Axes>"
      ]
     },
     "metadata": {
      "needs_background": "light"
     },
     "output_type": "display_data"
    },
    {
     "data": {
      "text/plain": [
       "<Figure size 432x288 with 0 Axes>"
      ]
     },
     "metadata": {},
     "output_type": "display_data"
    }
   ],
   "source": [
    "# Northern Cities Wind Speed Vs. Lat ....... with regress.\n",
    "\n",
    "nlat = northern_cities['lat']\n",
    "nwind = northern_cities['Wind Speed']\n",
    "\n",
    "vc_slope, vc_int, vc_r, vc_p, vc_std_err = stats.linregress(nlat, nwind)\n",
    "vc_fit = vc_slope * nlat + vc_int\n",
    "\n",
    "# plt.figure(figsize=(10,8))\n",
    "plt.scatter(nlat, nwind)\n",
    "plt.plot(nlat, vc_fit, linestyle=\"--\", color='red')\n",
    "\n",
    "plt.title(\"Northern City Wind Speed vs. Latitude\")\n",
    "plt.xlabel('Latitude')\n",
    "plt.ylabel('Wind Speed (mph)')\n",
    "plt.show()\n",
    "plt.savefig(\"northern_cities_windspeed.png\")"
   ]
  },
  {
   "cell_type": "code",
   "execution_count": null,
   "metadata": {},
   "outputs": [],
   "source": []
  },
  {
   "cell_type": "code",
   "execution_count": null,
   "metadata": {},
   "outputs": [],
   "source": []
  },
  {
   "cell_type": "code",
   "execution_count": 144,
   "metadata": {},
   "outputs": [
    {
     "data": {
      "image/png": "[encoded data removed]",
      "text/plain": [
       "<Figure size 432x288 with 1 Axes>"
      ]
     },
     "metadata": {
      "needs_background": "light"
     },
     "output_type": "display_data"
    },
    {
     "data": {
      "text/plain": [
       "<Figure size 432x288 with 0 Axes>"
      ]
     },
     "metadata": {},
     "output_type": "display_data"
    }
   ],
   "source": [
    "# Southern Cities Wind Speed Vs. Lat ....... with regress.\n",
    "\n",
    "slat = southern_cities['lat']\n",
    "swind = southern_cities['Wind Speed']\n",
    "\n",
    "vc_slope, vc_int, vc_r, vc_p, vc_std_err = stats.linregress(slat, swind)\n",
    "vc_fit = vc_slope * slat + vc_int\n",
    "\n",
    "# plt.figure(figsize=(10,8))\n",
    "plt.scatter(slat, swind)\n",
    "plt.plot(slat, vc_fit, linestyle=\"--\", color='red')\n",
    "\n",
    "plt.title(\"Southern City Wind Speed vs. Latitude\")\n",
    "plt.xlabel('Latitude')\n",
    "plt.ylabel('Wind Speed (mph)')\n",
    "plt.show()\n",
    "plt.savefig(\"southern_cities_windspeed.png\")"
   ]
  },
  {
   "cell_type": "markdown",
   "metadata": {},
   "source": [
    "### Convert Raw Data to DataFrame\n",
    "* Export the city data into a .csv.\n",
    "* Display the DataFrame"
   ]
  },
  {
   "cell_type": "code",
   "execution_count": null,
   "metadata": {},
   "outputs": [],
   "source": []
  },
  {
   "cell_type": "code",
   "execution_count": 152,
   "metadata": {},
   "outputs": [],
   "source": [
    "######## Below is the remaining instruction that has been completed. "
   ]
  },
  {
   "cell_type": "markdown",
   "metadata": {},
   "source": [
    "## Inspect the data and remove the cities where the humidity > 100%.\n",
    "----\n",
    "Skip this step if there are no cities that have humidity > 100%. "
   ]
  },
  {
   "cell_type": "code",
   "execution_count": null,
   "metadata": {},
   "outputs": [],
   "source": []
  },
  {
   "cell_type": "code",
   "execution_count": 150,
   "metadata": {},
   "outputs": [],
   "source": [
    "#  Get the indices of cities that have humidity over 100%.\n"
   ]
  },
  {
   "cell_type": "code",
   "execution_count": 151,
   "metadata": {},
   "outputs": [],
   "source": [
    "# Make a new DataFrame equal to the city data to drop all humidity outliers by index.\n",
    "# Passing \"inplace=False\" will make a copy of the city_data DataFrame, which we call \"clean_city_data\".\n"
   ]
  },
  {
   "cell_type": "code",
   "execution_count": null,
   "metadata": {},
   "outputs": [],
   "source": [
    "\n"
   ]
  },
  {
   "cell_type": "markdown",
   "metadata": {},
   "source": [
    "## Plotting the Data\n",
    "* Use proper labeling of the plots using plot titles (including date of analysis) and axes labels.\n",
    "* Save the plotted figures as .pngs."
   ]
  },
  {
   "cell_type": "markdown",
   "metadata": {},
   "source": [
    "## Latitude vs. Temperature Plot"
   ]
  },
  {
   "cell_type": "code",
   "execution_count": null,
   "metadata": {
    "scrolled": true
   },
   "outputs": [],
   "source": []
  },
  {
   "cell_type": "markdown",
   "metadata": {},
   "source": [
    "## Latitude vs. Humidity Plot"
   ]
  },
  {
   "cell_type": "code",
   "execution_count": null,
   "metadata": {},
   "outputs": [],
   "source": []
  },
  {
   "cell_type": "markdown",
   "metadata": {},
   "source": [
    "## Latitude vs. Cloudiness Plot"
   ]
  },
  {
   "cell_type": "code",
   "execution_count": null,
   "metadata": {},
   "outputs": [],
   "source": []
  },
  {
   "cell_type": "markdown",
   "metadata": {},
   "source": [
    "## Latitude vs. Wind Speed Plot"
   ]
  },
  {
   "cell_type": "code",
   "execution_count": null,
   "metadata": {},
   "outputs": [],
   "source": []
  },
  {
   "cell_type": "markdown",
   "metadata": {},
   "source": [
    "## Linear Regression"
   ]
  },
  {
   "cell_type": "code",
   "execution_count": null,
   "metadata": {},
   "outputs": [],
   "source": []
  },
  {
   "cell_type": "markdown",
   "metadata": {},
   "source": [
    "####  Northern Hemisphere - Max Temp vs. Latitude Linear Regression"
   ]
  },
  {
   "cell_type": "code",
   "execution_count": null,
   "metadata": {},
   "outputs": [],
   "source": []
  },
  {
   "cell_type": "markdown",
   "metadata": {},
   "source": [
    "####  Southern Hemisphere - Max Temp vs. Latitude Linear Regression"
   ]
  },
  {
   "cell_type": "code",
   "execution_count": null,
   "metadata": {},
   "outputs": [],
   "source": []
  },
  {
   "cell_type": "markdown",
   "metadata": {},
   "source": [
    "####  Northern Hemisphere - Humidity (%) vs. Latitude Linear Regression"
   ]
  },
  {
   "cell_type": "code",
   "execution_count": null,
   "metadata": {},
   "outputs": [],
   "source": []
  },
  {
   "cell_type": "markdown",
   "metadata": {},
   "source": [
    "####  Southern Hemisphere - Humidity (%) vs. Latitude Linear Regression"
   ]
  },
  {
   "cell_type": "code",
   "execution_count": null,
   "metadata": {},
   "outputs": [],
   "source": []
  },
  {
   "cell_type": "markdown",
   "metadata": {},
   "source": [
    "####  Northern Hemisphere - Cloudiness (%) vs. Latitude Linear Regression"
   ]
  },
  {
   "cell_type": "code",
   "execution_count": null,
   "metadata": {},
   "outputs": [],
   "source": []
  },
  {
   "cell_type": "markdown",
   "metadata": {},
   "source": [
    "####  Southern Hemisphere - Cloudiness (%) vs. Latitude Linear Regression"
   ]
  },
  {
   "cell_type": "code",
   "execution_count": null,
   "metadata": {},
   "outputs": [],
   "source": []
  },
  {
   "cell_type": "markdown",
   "metadata": {},
   "source": [
    "####  Northern Hemisphere - Wind Speed (mph) vs. Latitude Linear Regression"
   ]
  },
  {
   "cell_type": "code",
   "execution_count": null,
   "metadata": {},
   "outputs": [],
   "source": []
  },
  {
   "cell_type": "markdown",
   "metadata": {},
   "source": [
    "####  Southern Hemisphere - Wind Speed (mph) vs. Latitude Linear Regression"
   ]
  },
  {
   "cell_type": "code",
   "execution_count": null,
   "metadata": {},
   "outputs": [],
   "source": []
  },
  {
   "cell_type": "code",
   "execution_count": null,
   "metadata": {},
   "outputs": [],
   "source": []
  },
  {
   "cell_type": "code",
   "execution_count": null,
   "metadata": {},
   "outputs": [],
   "source": []
  },
  {
   "cell_type": "code",
   "execution_count": null,
   "metadata": {},
   "outputs": [],
   "source": []
  }
 ],
 "metadata": {
  "anaconda-cloud": {},
  "kernel_info": {
   "name": "python3"
  },
  "kernelspec": {
   "display_name": "Python 3",
   "language": "python",
   "name": "python3"
  },
  "language_info": {
   "codemirror_mode": {
    "name": "ipython",
    "version": 3
   },
   "file_extension": ".py",
   "mimetype": "text/x-python",
   "name": "python",
   "nbconvert_exporter": "python",
   "pygments_lexer": "ipython3",
   "version": "3.7.6"
  },
  "latex_envs": {
   "LaTeX_envs_menu_present": true,
   "autoclose": false,
   "autocomplete": true,
   "bibliofile": "biblio.bib",
   "cite_by": "apalike",
   "current_citInitial": 1,
   "eqLabelWithNumbers": true,
   "eqNumInitial": 1,
   "hotkeys": {
    "equation": "Ctrl-E",
    "itemize": "Ctrl-I"
   },
   "labels_anchors": false,
   "latex_user_defs": false,
   "report_style_numbering": false,
   "user_envs_cfg": false
  },
  "nteract": {
   "version": "0.12.3"
  }
 },
 "nbformat": 4,
 "nbformat_minor": 4
}
